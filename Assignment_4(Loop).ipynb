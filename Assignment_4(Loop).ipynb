{
 "cells": [
  {
   "cell_type": "markdown",
   "id": "f4e708df-ffcc-4cf3-bad8-0ec9c476f5f9",
   "metadata": {},
   "source": [
    "## 1. Write a Python program to print the numbers from 1 to 10 using a for loop."
   ]
  },
  {
   "cell_type": "code",
   "execution_count": 1,
   "id": "fdaacc0a-06d3-4df8-85ca-41ff920dd49d",
   "metadata": {},
   "outputs": [
    {
     "name": "stdout",
     "output_type": "stream",
     "text": [
      "1\n",
      "2\n",
      "3\n",
      "4\n",
      "5\n",
      "6\n",
      "7\n",
      "8\n",
      "9\n",
      "10\n"
     ]
    }
   ],
   "source": [
    "for a in range(1,11):\n",
    "    print(a)"
   ]
  },
  {
   "cell_type": "markdown",
   "id": "917ead8f-9ac3-4344-9cf1-08123c6fb941",
   "metadata": {},
   "source": [
    "## 2.Write a Python program to print the numbers from 20 to 1 using a while loop."
   ]
  },
  {
   "cell_type": "code",
   "execution_count": 3,
   "id": "a2750e36-3378-4514-bfaa-c2e1c8660501",
   "metadata": {},
   "outputs": [
    {
     "name": "stdout",
     "output_type": "stream",
     "text": [
      "20\n",
      "19\n",
      "18\n",
      "17\n",
      "16\n",
      "15\n",
      "14\n",
      "13\n",
      "12\n",
      "11\n",
      "10\n",
      "9\n",
      "8\n",
      "7\n",
      "6\n",
      "5\n",
      "4\n",
      "3\n",
      "2\n",
      "1\n"
     ]
    }
   ],
   "source": [
    "#using for loop\n",
    "for a in range(20,0,-1):\n",
    "    print(a)"
   ]
  },
  {
   "cell_type": "markdown",
   "id": "3ad6067d-8e36-4ec0-aee5-81779bc945f0",
   "metadata": {},
   "source": [
    "## 3. Write a program to print even numbers from 1 to 10."
   ]
  },
  {
   "cell_type": "code",
   "execution_count": 5,
   "id": "33c406d5-8de4-4d1a-b939-de7f06552ff8",
   "metadata": {},
   "outputs": [
    {
     "name": "stdout",
     "output_type": "stream",
     "text": [
      "0\n",
      "2\n",
      "4\n",
      "6\n",
      "8\n",
      "10\n"
     ]
    }
   ],
   "source": [
    "for a in range(0,11,2):\n",
    "    print(a)"
   ]
  },
  {
   "cell_type": "markdown",
   "id": "adf9ed83-7f27-4468-807d-ced4c04007bd",
   "metadata": {},
   "source": [
    "## 4. Write a program that prompts the user to enter a number n and prints all the \n",
    "## numbers from 1 to n."
   ]
  },
  {
   "cell_type": "code",
   "execution_count": 10,
   "id": "73645298-b07d-49c8-a775-bfa9e6aca322",
   "metadata": {},
   "outputs": [
    {
     "name": "stdin",
     "output_type": "stream",
     "text": [
      "Enter any integer: 20\n"
     ]
    },
    {
     "name": "stdout",
     "output_type": "stream",
     "text": [
      "1\n",
      "2\n",
      "3\n",
      "4\n",
      "5\n",
      "6\n",
      "7\n",
      "8\n",
      "9\n",
      "10\n",
      "11\n",
      "12\n",
      "13\n",
      "14\n",
      "15\n",
      "16\n",
      "17\n",
      "18\n",
      "19\n",
      "20\n"
     ]
    }
   ],
   "source": [
    "num=int(input(\"Enter any integer:\"))\n",
    "for a in range(1,num+1):\n",
    "    print(a)"
   ]
  },
  {
   "cell_type": "markdown",
   "id": "8151226d-8d0c-484b-8a65-21153130612a",
   "metadata": {},
   "source": [
    "## 5. Write a program that prompts the user to enter a number n, and then prints all the \n",
    "## odd numbers between 1 and n."
   ]
  },
  {
   "cell_type": "code",
   "execution_count": 21,
   "id": "175e00c6-0424-413a-9960-5b602e909b20",
   "metadata": {},
   "outputs": [
    {
     "name": "stdin",
     "output_type": "stream",
     "text": [
      "Enter any integer: 20\n"
     ]
    },
    {
     "name": "stdout",
     "output_type": "stream",
     "text": [
      "1\n",
      "3\n",
      "5\n",
      "7\n",
      "9\n",
      "11\n",
      "13\n",
      "15\n",
      "17\n",
      "19\n"
     ]
    }
   ],
   "source": [
    "num=int(input(\"Enter any integer:\"))\n",
    "for a in range(1,num+1):\n",
    "     if a % 2 != 0:\n",
    "        print(a)"
   ]
  },
  {
   "cell_type": "markdown",
   "id": "80b8c664-99c9-49a5-8f52-3ba498edc8af",
   "metadata": {},
   "source": [
    "## 6. Write a program that prints 'Happy Birthday!' five times on screen."
   ]
  },
  {
   "cell_type": "code",
   "execution_count": 23,
   "id": "701a75d8-baf7-4be6-b487-2e449f5b68d4",
   "metadata": {},
   "outputs": [
    {
     "name": "stdout",
     "output_type": "stream",
     "text": [
      "Happy Birthday\n",
      "Happy Birthday\n",
      "Happy Birthday\n",
      "Happy Birthday\n",
      "Happy Birthday\n",
      "Happy Birthday\n",
      "Happy Birthday\n",
      "Happy Birthday\n",
      "Happy Birthday\n",
      "Happy Birthday\n"
     ]
    }
   ],
   "source": [
    "for a in range(0,10):\n",
    "    print(\"Happy Birthday\")"
   ]
  },
  {
   "cell_type": "markdown",
   "id": "6e370741-461f-4aaa-8f1d-7451dd010336",
   "metadata": {},
   "source": [
    "## 7. Write a program that takes a number n as input from the user and generates the first \n",
    "## n terms of the series formed by squaring the natural numbers."
   ]
  },
  {
   "cell_type": "code",
   "execution_count": 28,
   "id": "bfa74e82-3767-4b1a-8ddc-1d3528779140",
   "metadata": {},
   "outputs": [
    {
     "name": "stdin",
     "output_type": "stream",
     "text": [
      "Enter any integer: 10\n"
     ]
    },
    {
     "name": "stdout",
     "output_type": "stream",
     "text": [
      "The first 10 terms of the series are:1\n",
      "The first 10 terms of the series are:4\n",
      "The first 10 terms of the series are:9\n",
      "The first 10 terms of the series are:16\n",
      "The first 10 terms of the series are:25\n",
      "The first 10 terms of the series are:36\n",
      "The first 10 terms of the series are:49\n",
      "The first 10 terms of the series are:64\n",
      "The first 10 terms of the series are:81\n",
      "The first 10 terms of the series are:100\n"
     ]
    }
   ],
   "source": [
    "num=int(input(\"Enter any integer:\"))\n",
    "for a in range(1,num+1):\n",
    "    print(f\"The first {num} terms of the series are:{a*a}\")"
   ]
  },
  {
   "cell_type": "markdown",
   "id": "546af4a4-7e38-47b7-8645-49d74eeed5a7",
   "metadata": {},
   "source": [
    "## 8. Write a program that prompts the user to input a number and prints its multiplication table"
   ]
  },
  {
   "cell_type": "code",
   "execution_count": 31,
   "id": "84529bc2-88e5-47ce-ac37-055503c75d51",
   "metadata": {},
   "outputs": [
    {
     "name": "stdin",
     "output_type": "stream",
     "text": [
      "Enter any integer: 12\n"
     ]
    },
    {
     "name": "stdout",
     "output_type": "stream",
     "text": [
      "The Multiplication table of 12 is:\n",
      "\n",
      "12 x 1 = 12\n",
      "12 x 2 = 24\n",
      "12 x 3 = 36\n",
      "12 x 4 = 48\n",
      "12 x 5 = 60\n",
      "12 x 6 = 72\n",
      "12 x 7 = 84\n",
      "12 x 8 = 96\n",
      "12 x 9 = 108\n",
      "12 x 10 = 120\n"
     ]
    }
   ],
   "source": [
    "num=int(input(\"Enter any integer:\"))\n",
    "print(f\"The Multiplication table of {num} is:\\n\")\n",
    "for a in range(1,11):\n",
    "    print(f\"{num} x {a} = {a*num}\")\n",
    "    "
   ]
  },
  {
   "cell_type": "markdown",
   "id": "8353ae93-7192-487a-ac0f-1befbda11e0e",
   "metadata": {},
   "source": [
    "## 9. Write a Python program to print the first 8 terms of an arithmetic progression starting \n",
    "with 3 and having a common difference of 4. \n",
    "The program should output the following sequence: \n",
    "3 7 11 15 19 23 27 31"
   ]
  },
  {
   "cell_type": "code",
   "execution_count": 35,
   "id": "47c4ebac-5faa-4859-82fc-373e8349b526",
   "metadata": {},
   "outputs": [
    {
     "name": "stdout",
     "output_type": "stream",
     "text": [
      "3 7 11 15 19 23 27 31 "
     ]
    }
   ],
   "source": [
    "for a in range(3,35,4):\n",
    "    print(f\"{a}\",end=\" \")"
   ]
  },
  {
   "cell_type": "markdown",
   "id": "4eff4cf3-0e5b-41c3-96ff-42c0e0f9e9f8",
   "metadata": {},
   "source": [
    "## 10. Write a Python program to print the first 6 terms of a geometric sequence starting \n",
    "with 2 and having a common ratio of 3. \n",
    "The program should output the following sequence: \n",
    "2 6 18 54 162 486"
   ]
  },
  {
   "cell_type": "code",
   "execution_count": 75,
   "id": "f8a73f6c-faea-45e9-8fab-ce30d1364ece",
   "metadata": {},
   "outputs": [
    {
     "name": "stdout",
     "output_type": "stream",
     "text": [
      "2\n",
      "6\n",
      "18\n",
      "54\n",
      "162\n",
      "486\n"
     ]
    }
   ],
   "source": [
    "first_term=2\n",
    "common_ratio=3\n",
    "nth_term=6\n",
    "for a in range(nth_term):\n",
    "    term=first_term*(common_ratio**a)\n",
    "    print(term)"
   ]
  },
  {
   "cell_type": "markdown",
   "id": "026f5ad5-756c-4283-b471-a5651a919f22",
   "metadata": {},
   "source": [
    "## 11. Write a program that asks the user for a positive integer value. The program should \n",
    "calculate the sum of all the integers from 1 up to the number entered. For example, if \n",
    "the user enters 20, the loop will find the sum of 1, 2, 3, 4, ... 20."
   ]
  },
  {
   "cell_type": "code",
   "execution_count": 37,
   "id": "8f99d3e0-c5b9-4d2f-899a-82c3ca848aa0",
   "metadata": {},
   "outputs": [
    {
     "name": "stdin",
     "output_type": "stream",
     "text": [
      "Enter any integer: 10\n"
     ]
    },
    {
     "name": "stdout",
     "output_type": "stream",
     "text": [
      "1 2 3 4 5 6 7 8 9 10 "
     ]
    }
   ],
   "source": [
    "num=int(input(\"Enter any integer:\"))\n",
    "for a in range(1,num+1):\n",
    "    print(a,end=\" \")"
   ]
  },
  {
   "cell_type": "markdown",
   "id": "9d381551-95ca-4e29-938d-f40fedbf54e6",
   "metadata": {},
   "source": [
    "## 12. write a program that takes a positive integer N as input and calculates the sum of \n",
    "the reciprocals of all numbers from 1 up to N. The program should display the final sum."
   ]
  },
  {
   "cell_type": "code",
   "execution_count": 64,
   "id": "3ef188b3-caed-4064-a8bd-73d4db337833",
   "metadata": {},
   "outputs": [
    {
     "name": "stdin",
     "output_type": "stream",
     "text": [
      "Enter any integer: 5\n"
     ]
    },
    {
     "name": "stdout",
     "output_type": "stream",
     "text": [
      "The reciprocals of 1 to 5 is 2.283333333333333\n"
     ]
    }
   ],
   "source": [
    "num=int(input(\"Enter any integer:\"))\n",
    "reci = 0\n",
    "for a in range(1,num+1):\n",
    "    reci += 1/a\n",
    "print(f\"The reciprocals of 1 to {num} is {reci}\")"
   ]
  },
  {
   "cell_type": "markdown",
   "id": "cdca203e-cb91-4a0e-8703-b370cb83cafe",
   "metadata": {},
   "source": [
    "## 13. Write a program that prompts the user to enter a number and repeats this process 5 \n",
    "times. The program should accumulate the numbers entered and then display the final \n",
    "running total. \n",
    "Sample Output: \n",
    "Enter a number: 10 \n",
    "Enter a number: 15 \n",
    "Enter a number: 35 \n",
    "Enter a number: 40 \n",
    "Enter a number: 50 \n",
    "The final running total is: 150"
   ]
  },
  {
   "cell_type": "code",
   "execution_count": 63,
   "id": "aba8def8-f8b7-4d28-8faa-ec0ecbf33c5e",
   "metadata": {},
   "outputs": [
    {
     "name": "stdin",
     "output_type": "stream",
     "text": [
      "how many times do you want to repeat this program: 5\n",
      "Enter a number: 10\n",
      "Enter a number: 20\n",
      "Enter a number: 30\n",
      "Enter a number: 40\n",
      "Enter a number: 50\n"
     ]
    },
    {
     "name": "stdout",
     "output_type": "stream",
     "text": [
      "The sum of all input numbers are = 150\n"
     ]
    }
   ],
   "source": [
    "repeat=int(input(\"how many times do you want to repeat this program:\"))\n",
    "total_sum = 0\n",
    "for a in range(0,repeat):\n",
    "    number=int(input(\"Enter a number:\"))\n",
    "    total_sum += number\n",
    "print(f\"The sum of all input numbers are = {total_sum}\")\n",
    "    "
   ]
  },
  {
   "cell_type": "markdown",
   "id": "09c48572-18c5-4969-a1d4-a7844f75ed46",
   "metadata": {},
   "source": [
    "## 14. Write a program that prompts the user to enter a positive integer and calculates its \n",
    "factorial. The factorial of a positive integer 'n' is denoted as 'n!' and is calculated by \n",
    "multiplying all the integers from 1 to 'n' together. For example, the factorial of 5 \n",
    "(denoted as 5!) is calculated as 1 x 2 x 3 x 4 x 5"
   ]
  },
  {
   "cell_type": "code",
   "execution_count": 72,
   "id": "8be3ae46-a57c-4288-82ef-f52c6af67176",
   "metadata": {},
   "outputs": [
    {
     "name": "stdin",
     "output_type": "stream",
     "text": [
      "Enter any number: 8\n"
     ]
    },
    {
     "name": "stdout",
     "output_type": "stream",
     "text": [
      "The factorial of 8 is = 40320\n"
     ]
    }
   ],
   "source": [
    "num=int(input(\"Enter any number:\"))\n",
    "factorial = 1\n",
    "for a in range(1,num+1):\n",
    "    factorial*=a\n",
    "print(f\"The factorial of {num} is = {factorial}\")"
   ]
  },
  {
   "cell_type": "markdown",
   "id": "6ca9d27c-f01e-4b2b-a43f-e36af5d41a8f",
   "metadata": {},
   "source": [
    "## 15. Write a Python program that prompts the user to enter a base number and an \n",
    "exponent, and then calculates the power of the base to the exponent. The program \n",
    "should not use the exponentiation operator (**) or the math.pow() function. The \n",
    "program should handle both positive and negative exponents."
   ]
  },
  {
   "cell_type": "code",
   "execution_count": 77,
   "id": "6aa291ac-86cf-4e9b-ad4f-d37b783dc94a",
   "metadata": {},
   "outputs": [
    {
     "name": "stdin",
     "output_type": "stream",
     "text": [
      "Enter any base number: 3\n",
      "Enter its exponent: 3\n"
     ]
    },
    {
     "name": "stdout",
     "output_type": "stream",
     "text": [
      "27\n"
     ]
    }
   ],
   "source": [
    "num=int(input(\"Enter any base number:\"))\n",
    "ex=int(input(\"Enter its exponent:\"))\n",
    "result=1\n",
    "for a in range(1,ex+1):\n",
    "    result*=num\n",
    "print(result)    "
   ]
  },
  {
   "cell_type": "code",
   "execution_count": null,
   "id": "c20c6cfc-ea71-40d6-bbc5-f4586f090362",
   "metadata": {},
   "outputs": [],
   "source": []
  }
 ],
 "metadata": {
  "kernelspec": {
   "display_name": "Python 3 (ipykernel)",
   "language": "python",
   "name": "python3"
  },
  "language_info": {
   "codemirror_mode": {
    "name": "ipython",
    "version": 3
   },
   "file_extension": ".py",
   "mimetype": "text/x-python",
   "name": "python",
   "nbconvert_exporter": "python",
   "pygments_lexer": "ipython3",
   "version": "3.12.7"
  }
 },
 "nbformat": 4,
 "nbformat_minor": 5
}
